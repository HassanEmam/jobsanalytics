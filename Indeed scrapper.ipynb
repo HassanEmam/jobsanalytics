{
 "cells": [
  {
   "cell_type": "code",
   "execution_count": 69,
   "metadata": {},
   "outputs": [],
   "source": [
    "import matplotlib.pyplot as plt\n",
    "%matplotlib inline\n",
    "import pandas as pd\n",
    "from bs4 import BeautifulSoup\n",
    "import requests\n",
    "import json"
   ]
  },
  {
   "cell_type": "code",
   "execution_count": 70,
   "metadata": {
    "collapsed": true
   },
   "outputs": [],
   "source": [
    "def extract_text(item):\n",
    "    if item:\n",
    "        return item.text.strip()\n",
    "    else:\n",
    "        return ''\n",
    "    \n",
    "def get_title_from_result(result):\n",
    "    return result.find('a',{'data-tn-element': 'jobTitle'}).text.strip()\n",
    "\n",
    "def get_url(result):\n",
    "    a = result.find('a',{'data-tn-element': 'jobTitle'})\n",
    "    return(a['href'])\n",
    "    \n",
    "def get_company_from_result(result):\n",
    "    return extract_text(result.find('span',{'class': 'company'}))\n",
    "\n",
    "def get_location_from_result(result):\n",
    "    return extract_text(result.find('span',{'class': 'location'}))\n",
    "\n",
    "def get_summary_from_result(result):\n",
    "    return extract_text(result.find('span',{'class': 'summary'}))"
   ]
  },
  {
   "cell_type": "code",
   "execution_count": 106,
   "metadata": {},
   "outputs": [],
   "source": [
    "url=\"https://www.indeed.com/jobs?q=%22project+control%22+${}%2C000&l=USA&radius=100&jt=fulltime&limit=500\"\n",
    "UKurl =\"https://www.bayt.com/en/international/jobs/q/project-controls/?page={}\"\n",
    "max_result_per_city=6000\n",
    "\n",
    "rows=[]\n",
    "# for salary in set(['55-70','70-85','85-100','100-115']):\n",
    "for salary in set(['35-40','40-45','45-50','50-55', '55-60']):\n",
    "    for start in range(134):\n",
    "        r=requests.get(UKurl.format(salary, start))\n",
    "        soup=BeautifulSoup(r.content,\"lxml\")\n",
    "        results=soup.findAll('div',{'class':  'result'})\n",
    "        for result in results:\n",
    "            if result:\n",
    "                row={}\n",
    "                row['title']=get_title_from_result(result)\n",
    "                row['company']=get_company_from_result(result)\n",
    "                row['city']=get_location_from_result(result)\n",
    "                row['summary']=get_summary_from_result(result)\n",
    "                row['bin']=salary\n",
    "                row['url'] = get_url(result)\n",
    "                \n",
    "                rows.append(row)"
   ]
  },
  {
   "cell_type": "code",
   "execution_count": 110,
   "metadata": {},
   "outputs": [
    {
     "data": {
      "text/plain": [
       "{'bin': '45-50',\n",
       " 'city': 'Birmingham',\n",
       " 'company': 'High Speed Two (HS2)',\n",
       " 'summary': 'Being an interface between various teams comprising Land and Property Project Controls; Experience of coordinating project deliverables across teams and...',\n",
       " 'title': 'Project Control Assistant',\n",
       " 'url': '/rc/clk?jk=d7cb13e72073ffc0&fccid=ffb21d420c35ba19&vjs=3'}"
      ]
     },
     "execution_count": 110,
     "metadata": {},
     "output_type": "execute_result"
    }
   ],
   "source": [
    "rows[3]"
   ]
  },
  {
   "cell_type": "code",
   "execution_count": 120,
   "metadata": {},
   "outputs": [],
   "source": [
    "import csv\n",
    "\n",
    "# with open('UK Jobs Indeed.csv', 'w') as myfile:\n",
    "#    wr = csv.writer(myfile, quoting=csv.QUOTE_ALL)\n",
    "#    wr.writerow(rows)\n",
    "with open('UKdata.json', 'w') as outfile:\n",
    "    json.dump(rows, outfile)\n"
   ]
  },
  {
   "cell_type": "code",
   "execution_count": 126,
   "metadata": {},
   "outputs": [
    {
     "data": {
      "text/plain": [
       "'https://www.indeed.co.uk/viewjob?mo=r&ad=-6NYlbfkN0BlmBC50PzQ89mMhh_vROnM2iWo5hsUZqhfPqFlYF3S3E8jmFAB6iHYC8_ZmXj23LTU9J63ei56vgsNyCmxrUPpXcOwUUUpZ09Wb9dMclgN-qKtrZqHzmyKkONITbN7FGCuq14IbKOy_A25QhaKQHvrL7KFm-FFU85Xz1xvX6BEK_vh3kefkB9FeXO7rpP3oQoC2I7Pa-XzPsP6IT55B_gizomnX24DcSP4FS3dZ8xn9WLeNhYT9y-oclA5-Xxh4FAQ0ifJz36VPKb6tfQXcR4lCqIFuLG_ZzA_fQaxZNqGOHD3QMfPJ95ugoLAvY7LG9b-u3F-G34VKDopIPjJyyYerbI5QCngC3rFj8OB5ZHQKroM7Lxubdz2DjxkKll-3KFpbfLO6uiqQnKW6em2HmhOa32WqS0o2oHuujgWEpzZ0tYa21ikXA616oRDoHv4YvbXUPYMSVr1KeNZMw_8Ni-09iY25ns1Qfn190jS7lJsc81uAUuz8-Ii8SVIWGB6OWP01zzEZelMA888W_BsdzD_fYEVoiWHFihLbiVKc2U0v9UJi39hXWl6qpTjsDVCi3VTQP5t-GCXMaVyu7qUnpaC5jWjK85lD6XsqOzn-2cDtJ6Jjp2yuYBKjXAZdNtzC7DqjaPVivRUdyXbYIJ2vZrruiuBJf1voMXOa1LgrTwY4ogVbaIhTULDC1FNS5YqSIO3MA6-9yTbauua_m7tTP6L3WiUZ9c6ws2qVssvf_yTfQ==&vjs=3&p=2&sk=&fvj=0'"
      ]
     },
     "execution_count": 126,
     "metadata": {},
     "output_type": "execute_result"
    }
   ],
   "source": [
    "with open('UKdata.json') as f:\n",
    "    data = json.load(f)\n",
    "urls = []    \n",
    "for j in data:\n",
    "    url =\"https://www.indeed.com/viewjob?\"\n",
    "    ukurl =\"https://www.indeed.co.uk/viewjob?\"\n",
    "    ukurl += j['url'].split('?')[1]\n",
    "    urls.append(ukurl)\n",
    "urls[1]"
   ]
  },
  {
   "cell_type": "code",
   "execution_count": 133,
   "metadata": {},
   "outputs": [],
   "source": [
    "\n",
    "def get_full_jd(result):\n",
    "    if result is None: \n",
    "        return None\n",
    "    return extract_text(result.find('div',{'class': 'jobsearch-JobComponent-description'}))\n",
    "count = 0 \n",
    "# url = urls[0]\n",
    "# r=requests.get(url)\n",
    "# soup=BeautifulSoup(r.content,\"lxml\")\n",
    "# result = soup.find('div', {'class': 'jobsearch-ViewJobLayout-jobDisplay' })\n",
    "# jd =({'JD' : get_full_jd(result)})\n",
    "# jd\n",
    "\n",
    "\n",
    "for url in urls:\n",
    "    r=requests.get(url)\n",
    "    soup=BeautifulSoup(r.content,\"lxml\")\n",
    "    result = soup.find('div',{'class':  'jobsearch-ViewJobLayout-jobDisplay'})\n",
    "    rows[count].update({'JD' : get_full_jd(result)})\n",
    "    count +=1\n"
   ]
  },
  {
   "cell_type": "code",
   "execution_count": 137,
   "metadata": {},
   "outputs": [
    {
     "data": {
      "text/plain": [
       "{'JD': \"Jacobs employ the UK's most experienced and skilled technical services professionals and has grown to over 11,000 people in locations across the UK.\\nAt Jacobs, within the Aerospace, Technology, Environmental and Nuclear (ATEN) division, we provide the resources to turn great ideas into reality, and we offer capable and committed individuals the opportunity to shape their careers how they wish.\\nRead more about our graduates by clicking below\\nwww.jacobs.com/careers/ukgraduates\\nWe currently have a range of exciting and rewarding graduate project controls positions in our defence projects across various UK locations. Locations include Bristol, Glasgow, Cambridgeshire, Berkshire, Hampshire and Cumbria.\\nThe successful candidates will become part of a respected and ambitious company with excellent career prospects and international opportunities.\\nWorking as an integral part of dynamic and agile teams, your primary job responsibilities would be:\\nScheduling/Planning:\\n•\\n Production and maintenance of project schedules\\n•\\n Report Actuals v Plan, identifying and explain variances.\\n•\\n Attend project meetings and present schedule data as directed by the Project Manager.\\n•\\n Liaise with the Cost Manager to enable the Project Schedule to be Cost Loaded.\\n•\\n Provide schedule data input to monthly Project Manager's reporting.\\nRisk/Opportunity Management:\\n•\\n Production and maintenance of project risk and opportunity registers\\n•\\n Facilitate project risk/opportunity reviews\\n•\\n Support the Project Manager to ensure all risks are appropriately mitigated\\n•\\n Attend project meetings and present risk/opportunity data as directed by the Project Manager.\\n•\\n Liaise with the Cost Manager to enable the risk register to be Cost Loaded.\\n•\\n Provide risk/opportunity data input to monthly Project Manager's reporting.\\nCost Management and estimating:\\n•\\n Production and maintenance of cost reports.\\n•\\n Report Actuals v Plan, identifying and explain variances.\\n•\\n Production of project invoices.\\n•\\n Attend project meetings and present cost data as directed by the Project Manager.\\n•\\n Report Earned Value metrics as directed by the Project Manager.\\n•\\n Liaise with the Project Scheduler/Planner to enable the Project Schedule to be Cost Loaded.\\n•\\n Provide Cost data input to monthly Project Manager's report.\\nGeneral:\\n•\\n Maintain effective communications with all Stakeholders.\\n•\\n Participate in Health and Safety discussions within the office and across the Jacobs business as a whole\\nYou will be working alongside our top professionals within this field providing you with the opportunity to learn, develop and grow your skills.\\nQualifications\\nEssential:\\n•\\n Degree qualified.in Engineering (Mechanical, Civil, Electrical, Chemical), Science, Mathematics Project/Business Management or Accounting.\\n•\\n Excellent communication skills.\\n•\\n Positive and professional approach.\\n•\\n Problem solving and the ability to work within a dynamic team.\\n•\\n Enthusiastic, inquisitive and confident, with an appetite to learn and personal focus on delivery/getting things done.\\n•\\n English language fluent, written and verbal.\\n•\\n Proficient in MS Office.\\n•\\n Extensive knowledge of Excel and similar packages\\n•\\n Ability to pass defence security vetting\\nDesired:\\n•\\n Knowledge and experience of project controls software including MSProject, Primavera P6, ARM, etc.\\nStart your journey with Jacobs\\nJacobs Graduate Development Programme (GDP) is recognised throughout industry as a benchmark of good practice and is designed to fulfil the needs of all graduates, in addition to technical development needs specific to their particular discipline.\\n1.\\n You will be working on a unique and exciting UK defence projects focused on delivering military capability\\n2.\\n Opportunity for you work with some of the best Jacobs Project delivery professionals (opportunity to learn)\\n3.\\n You will be delivering within agile teams (huge opportunity contribute and be noticed)\\n4.\\n You will gain skills and experience in the application of recognised project management methodologies (opportunity to gain/embed new skills)\\nGraduates complete a series of competencies based upon business requirements, comprising the optimum mix of blended learning which complements chartership progression and provides them with the technical and business acumen required to advance their career. Additional benefits include:\\n•\\n An invitation to attend our residential 'Graduate Conference' weekend in the Lake District to meet Jacobs graduates from across the globe and members of senior management\\n•\\n Paid holidays of up to 32 days; inclusive of national and public holidays\\n•\\n A broad flexible benefits package including the option to buy additional holidays, travel insurance, contributory pension scheme and the cycle to work scheme.\\nJoin Jacobs. We want you to grow…\\nJACOBS is an Equal Opportunity Employer who is committed to the safety and wellbeing of all.\\n#LI-RS1\",\n",
       " 'bin': '35-40',\n",
       " 'city': 'United Kingdom',\n",
       " 'company': 'Jacobs',\n",
       " 'summary': 'Knowledge and experience of project controls software including MSProject, Primavera P6, ARM, etc. Attend project meetings and present schedule data as directed...',\n",
       " 'title': 'Project Controls Graduate',\n",
       " 'url': '/rc/clk?jk=deb69e02b8247f25&fccid=de56d7554bea5214&vjs=3'}"
      ]
     },
     "execution_count": 137,
     "metadata": {},
     "output_type": "execute_result"
    }
   ],
   "source": [
    "rows[690]"
   ]
  },
  {
   "cell_type": "code",
   "execution_count": 136,
   "metadata": {},
   "outputs": [
    {
     "name": "stdout",
     "output_type": "stream",
     "text": [
      "UTF-8\n"
     ]
    }
   ],
   "source": [
    "import sys\n",
    "print (sys.stdout.encoding)\n",
    "with open('ukdata.json', 'w') as outfile:\n",
    "    json.dump(rows, outfile)\n"
   ]
  },
  {
   "cell_type": "code",
   "execution_count": null,
   "metadata": {
    "collapsed": true
   },
   "outputs": [],
   "source": []
  }
 ],
 "metadata": {
  "kernelspec": {
   "display_name": "Python 3",
   "language": "python",
   "name": "python3"
  },
  "language_info": {
   "codemirror_mode": {
    "name": "ipython",
    "version": 3
   },
   "file_extension": ".py",
   "mimetype": "text/x-python",
   "name": "python",
   "nbconvert_exporter": "python",
   "pygments_lexer": "ipython3",
   "version": "3.6.5"
  }
 },
 "nbformat": 4,
 "nbformat_minor": 2
}
